{
 "cells": [
  {
   "cell_type": "code",
   "id": "initial_id",
   "metadata": {
    "collapsed": true,
    "ExecuteTime": {
     "end_time": "2025-01-15T16:04:14.676149Z",
     "start_time": "2025-01-15T16:04:14.673712Z"
    }
   },
   "source": "from src.utils import load_data, split_input_output, split_train_test, deserialize_data, serialize_data",
   "outputs": [],
   "execution_count": 28
  },
  {
   "metadata": {
    "ExecuteTime": {
     "end_time": "2025-01-15T16:04:14.932305Z",
     "start_time": "2025-01-15T16:04:14.897852Z"
    }
   },
   "cell_type": "code",
   "source": "dataset = load_data(\"../data/raw/credit_risk_dataset.csv\")",
   "id": "f9f425a1cae0164e",
   "outputs": [
    {
     "name": "stdout",
     "output_type": "stream",
     "text": [
      "Data Shape: (32581, 12)\n"
     ]
    }
   ],
   "execution_count": 29
  },
  {
   "metadata": {
    "ExecuteTime": {
     "end_time": "2025-01-15T16:04:15.206567Z",
     "start_time": "2025-01-15T16:04:15.194621Z"
    }
   },
   "cell_type": "code",
   "source": "dataset.head()",
   "id": "7989c236378c025b",
   "outputs": [
    {
     "data": {
      "text/plain": [
       "   person_age  person_income person_home_ownership  person_emp_length  \\\n",
       "0          22          59000                  RENT              123.0   \n",
       "1          21           9600                   OWN                5.0   \n",
       "2          25           9600              MORTGAGE                1.0   \n",
       "3          23          65500                  RENT                4.0   \n",
       "4          24          54400                  RENT                8.0   \n",
       "\n",
       "  loan_intent loan_grade  loan_amnt  loan_int_rate  loan_status  \\\n",
       "0    PERSONAL          D      35000          16.02            1   \n",
       "1   EDUCATION          B       1000          11.14            0   \n",
       "2     MEDICAL          C       5500          12.87            1   \n",
       "3     MEDICAL          C      35000          15.23            1   \n",
       "4     MEDICAL          C      35000          14.27            1   \n",
       "\n",
       "   loan_percent_income cb_person_default_on_file  cb_person_cred_hist_length  \n",
       "0                 0.59                         Y                           3  \n",
       "1                 0.10                         N                           2  \n",
       "2                 0.57                         N                           3  \n",
       "3                 0.53                         N                           2  \n",
       "4                 0.55                         Y                           4  "
      ],
      "text/html": [
       "<div>\n",
       "<style scoped>\n",
       "    .dataframe tbody tr th:only-of-type {\n",
       "        vertical-align: middle;\n",
       "    }\n",
       "\n",
       "    .dataframe tbody tr th {\n",
       "        vertical-align: top;\n",
       "    }\n",
       "\n",
       "    .dataframe thead th {\n",
       "        text-align: right;\n",
       "    }\n",
       "</style>\n",
       "<table border=\"1\" class=\"dataframe\">\n",
       "  <thead>\n",
       "    <tr style=\"text-align: right;\">\n",
       "      <th></th>\n",
       "      <th>person_age</th>\n",
       "      <th>person_income</th>\n",
       "      <th>person_home_ownership</th>\n",
       "      <th>person_emp_length</th>\n",
       "      <th>loan_intent</th>\n",
       "      <th>loan_grade</th>\n",
       "      <th>loan_amnt</th>\n",
       "      <th>loan_int_rate</th>\n",
       "      <th>loan_status</th>\n",
       "      <th>loan_percent_income</th>\n",
       "      <th>cb_person_default_on_file</th>\n",
       "      <th>cb_person_cred_hist_length</th>\n",
       "    </tr>\n",
       "  </thead>\n",
       "  <tbody>\n",
       "    <tr>\n",
       "      <th>0</th>\n",
       "      <td>22</td>\n",
       "      <td>59000</td>\n",
       "      <td>RENT</td>\n",
       "      <td>123.0</td>\n",
       "      <td>PERSONAL</td>\n",
       "      <td>D</td>\n",
       "      <td>35000</td>\n",
       "      <td>16.02</td>\n",
       "      <td>1</td>\n",
       "      <td>0.59</td>\n",
       "      <td>Y</td>\n",
       "      <td>3</td>\n",
       "    </tr>\n",
       "    <tr>\n",
       "      <th>1</th>\n",
       "      <td>21</td>\n",
       "      <td>9600</td>\n",
       "      <td>OWN</td>\n",
       "      <td>5.0</td>\n",
       "      <td>EDUCATION</td>\n",
       "      <td>B</td>\n",
       "      <td>1000</td>\n",
       "      <td>11.14</td>\n",
       "      <td>0</td>\n",
       "      <td>0.10</td>\n",
       "      <td>N</td>\n",
       "      <td>2</td>\n",
       "    </tr>\n",
       "    <tr>\n",
       "      <th>2</th>\n",
       "      <td>25</td>\n",
       "      <td>9600</td>\n",
       "      <td>MORTGAGE</td>\n",
       "      <td>1.0</td>\n",
       "      <td>MEDICAL</td>\n",
       "      <td>C</td>\n",
       "      <td>5500</td>\n",
       "      <td>12.87</td>\n",
       "      <td>1</td>\n",
       "      <td>0.57</td>\n",
       "      <td>N</td>\n",
       "      <td>3</td>\n",
       "    </tr>\n",
       "    <tr>\n",
       "      <th>3</th>\n",
       "      <td>23</td>\n",
       "      <td>65500</td>\n",
       "      <td>RENT</td>\n",
       "      <td>4.0</td>\n",
       "      <td>MEDICAL</td>\n",
       "      <td>C</td>\n",
       "      <td>35000</td>\n",
       "      <td>15.23</td>\n",
       "      <td>1</td>\n",
       "      <td>0.53</td>\n",
       "      <td>N</td>\n",
       "      <td>2</td>\n",
       "    </tr>\n",
       "    <tr>\n",
       "      <th>4</th>\n",
       "      <td>24</td>\n",
       "      <td>54400</td>\n",
       "      <td>RENT</td>\n",
       "      <td>8.0</td>\n",
       "      <td>MEDICAL</td>\n",
       "      <td>C</td>\n",
       "      <td>35000</td>\n",
       "      <td>14.27</td>\n",
       "      <td>1</td>\n",
       "      <td>0.55</td>\n",
       "      <td>Y</td>\n",
       "      <td>4</td>\n",
       "    </tr>\n",
       "  </tbody>\n",
       "</table>\n",
       "</div>"
      ]
     },
     "execution_count": 30,
     "metadata": {},
     "output_type": "execute_result"
    }
   ],
   "execution_count": 30
  },
  {
   "metadata": {
    "ExecuteTime": {
     "end_time": "2025-01-15T16:04:15.736662Z",
     "start_time": "2025-01-15T16:04:15.731438Z"
    }
   },
   "cell_type": "code",
   "source": [
    "dataset = dataset.rename(columns={\n",
    "    \"person_age\": \"age\", \"person_income\": \"income\", \"person_home_ownership\": \"home_ownership\",\n",
    "    \"person_emp_length\": \"employment_length\", \"loan_amnt\": \"loan_amount\",\n",
    "    \"loan_int_rate\": \"loan_interest_rate\",\n",
    "    \"cb_person_cred_hist_length\": \"credit_history_length\",\n",
    "})"
   ],
   "id": "9f225a4bda1c10da",
   "outputs": [],
   "execution_count": 31
  },
  {
   "metadata": {
    "ExecuteTime": {
     "end_time": "2025-01-15T16:04:16.415338Z",
     "start_time": "2025-01-15T16:04:16.410966Z"
    }
   },
   "cell_type": "code",
   "source": [
    "target_column = \"loan_status\"\n",
    "X, y = split_input_output(dataset, target_column)"
   ],
   "id": "6e65c73372b9fbc4",
   "outputs": [
    {
     "name": "stdout",
     "output_type": "stream",
     "text": [
      "Original data shape: (32581, 12)\n",
      "X data shape: (32581, 11)\n",
      "y data shape: (32581,)\n"
     ]
    }
   ],
   "execution_count": 32
  },
  {
   "metadata": {
    "ExecuteTime": {
     "end_time": "2025-01-15T16:04:17.038955Z",
     "start_time": "2025-01-15T16:04:17.026894Z"
    }
   },
   "cell_type": "code",
   "source": "X.head()",
   "id": "d788aa746b566bc",
   "outputs": [
    {
     "data": {
      "text/plain": [
       "   age  income home_ownership  employment_length loan_intent loan_grade  \\\n",
       "0   22   59000           RENT              123.0    PERSONAL          D   \n",
       "1   21    9600            OWN                5.0   EDUCATION          B   \n",
       "2   25    9600       MORTGAGE                1.0     MEDICAL          C   \n",
       "3   23   65500           RENT                4.0     MEDICAL          C   \n",
       "4   24   54400           RENT                8.0     MEDICAL          C   \n",
       "\n",
       "   loan_amount  loan_interest_rate  loan_percent_income  \\\n",
       "0        35000               16.02                 0.59   \n",
       "1         1000               11.14                 0.10   \n",
       "2         5500               12.87                 0.57   \n",
       "3        35000               15.23                 0.53   \n",
       "4        35000               14.27                 0.55   \n",
       "\n",
       "  cb_person_default_on_file  credit_history_length  \n",
       "0                         Y                      3  \n",
       "1                         N                      2  \n",
       "2                         N                      3  \n",
       "3                         N                      2  \n",
       "4                         Y                      4  "
      ],
      "text/html": [
       "<div>\n",
       "<style scoped>\n",
       "    .dataframe tbody tr th:only-of-type {\n",
       "        vertical-align: middle;\n",
       "    }\n",
       "\n",
       "    .dataframe tbody tr th {\n",
       "        vertical-align: top;\n",
       "    }\n",
       "\n",
       "    .dataframe thead th {\n",
       "        text-align: right;\n",
       "    }\n",
       "</style>\n",
       "<table border=\"1\" class=\"dataframe\">\n",
       "  <thead>\n",
       "    <tr style=\"text-align: right;\">\n",
       "      <th></th>\n",
       "      <th>age</th>\n",
       "      <th>income</th>\n",
       "      <th>home_ownership</th>\n",
       "      <th>employment_length</th>\n",
       "      <th>loan_intent</th>\n",
       "      <th>loan_grade</th>\n",
       "      <th>loan_amount</th>\n",
       "      <th>loan_interest_rate</th>\n",
       "      <th>loan_percent_income</th>\n",
       "      <th>cb_person_default_on_file</th>\n",
       "      <th>credit_history_length</th>\n",
       "    </tr>\n",
       "  </thead>\n",
       "  <tbody>\n",
       "    <tr>\n",
       "      <th>0</th>\n",
       "      <td>22</td>\n",
       "      <td>59000</td>\n",
       "      <td>RENT</td>\n",
       "      <td>123.0</td>\n",
       "      <td>PERSONAL</td>\n",
       "      <td>D</td>\n",
       "      <td>35000</td>\n",
       "      <td>16.02</td>\n",
       "      <td>0.59</td>\n",
       "      <td>Y</td>\n",
       "      <td>3</td>\n",
       "    </tr>\n",
       "    <tr>\n",
       "      <th>1</th>\n",
       "      <td>21</td>\n",
       "      <td>9600</td>\n",
       "      <td>OWN</td>\n",
       "      <td>5.0</td>\n",
       "      <td>EDUCATION</td>\n",
       "      <td>B</td>\n",
       "      <td>1000</td>\n",
       "      <td>11.14</td>\n",
       "      <td>0.10</td>\n",
       "      <td>N</td>\n",
       "      <td>2</td>\n",
       "    </tr>\n",
       "    <tr>\n",
       "      <th>2</th>\n",
       "      <td>25</td>\n",
       "      <td>9600</td>\n",
       "      <td>MORTGAGE</td>\n",
       "      <td>1.0</td>\n",
       "      <td>MEDICAL</td>\n",
       "      <td>C</td>\n",
       "      <td>5500</td>\n",
       "      <td>12.87</td>\n",
       "      <td>0.57</td>\n",
       "      <td>N</td>\n",
       "      <td>3</td>\n",
       "    </tr>\n",
       "    <tr>\n",
       "      <th>3</th>\n",
       "      <td>23</td>\n",
       "      <td>65500</td>\n",
       "      <td>RENT</td>\n",
       "      <td>4.0</td>\n",
       "      <td>MEDICAL</td>\n",
       "      <td>C</td>\n",
       "      <td>35000</td>\n",
       "      <td>15.23</td>\n",
       "      <td>0.53</td>\n",
       "      <td>N</td>\n",
       "      <td>2</td>\n",
       "    </tr>\n",
       "    <tr>\n",
       "      <th>4</th>\n",
       "      <td>24</td>\n",
       "      <td>54400</td>\n",
       "      <td>RENT</td>\n",
       "      <td>8.0</td>\n",
       "      <td>MEDICAL</td>\n",
       "      <td>C</td>\n",
       "      <td>35000</td>\n",
       "      <td>14.27</td>\n",
       "      <td>0.55</td>\n",
       "      <td>Y</td>\n",
       "      <td>4</td>\n",
       "    </tr>\n",
       "  </tbody>\n",
       "</table>\n",
       "</div>"
      ]
     },
     "execution_count": 33,
     "metadata": {},
     "output_type": "execute_result"
    }
   ],
   "execution_count": 33
  },
  {
   "metadata": {
    "ExecuteTime": {
     "end_time": "2025-01-15T16:04:35.627143Z",
     "start_time": "2025-01-15T16:04:35.621901Z"
    }
   },
   "cell_type": "code",
   "source": "y.head()",
   "id": "29cf686e175998e2",
   "outputs": [
    {
     "data": {
      "text/plain": [
       "0    1\n",
       "1    0\n",
       "2    1\n",
       "3    1\n",
       "4    1\n",
       "Name: loan_status, dtype: int64"
      ]
     },
     "execution_count": 34,
     "metadata": {},
     "output_type": "execute_result"
    }
   ],
   "execution_count": 34
  },
  {
   "metadata": {
    "ExecuteTime": {
     "end_time": "2025-01-15T16:04:41.533891Z",
     "start_time": "2025-01-15T16:04:41.522365Z"
    }
   },
   "cell_type": "code",
   "source": "X_train, X_non_train, y_train, y_non_train = split_train_test(X, y, test_size=0.2, random_state=42)",
   "id": "9763e9f17ff36222",
   "outputs": [
    {
     "name": "stdout",
     "output_type": "stream",
     "text": [
      "X train shape: (26064, 11)\n",
      "X test shape: (6517, 11)\n",
      "y train shape: (26064,)\n",
      "y test shape: (6517,)\n"
     ]
    }
   ],
   "execution_count": 35
  },
  {
   "metadata": {
    "ExecuteTime": {
     "end_time": "2025-01-15T16:04:42.305447Z",
     "start_time": "2025-01-15T16:04:42.298095Z"
    }
   },
   "cell_type": "code",
   "source": "X_valid, X_test, y_valid, y_test = split_train_test(X_non_train, y_non_train, test_size=0.2, random_state=42)",
   "id": "498a929961fe289b",
   "outputs": [
    {
     "name": "stdout",
     "output_type": "stream",
     "text": [
      "X train shape: (5213, 11)\n",
      "X test shape: (1304, 11)\n",
      "y train shape: (5213,)\n",
      "y test shape: (1304,)\n"
     ]
    }
   ],
   "execution_count": 36
  },
  {
   "metadata": {
    "ExecuteTime": {
     "end_time": "2025-01-15T16:04:43.101808Z",
     "start_time": "2025-01-15T16:04:43.080483Z"
    }
   },
   "cell_type": "code",
   "source": [
    "serialize_data(X_train, path=\"../data/interim/X_train.pkl\")\n",
    "serialize_data(y_train, path=\"../data/interim/y_train.pkl\")\n",
    "\n",
    "serialize_data(X_test, path=\"../data/interim/X_test.pkl\")\n",
    "serialize_data(y_test, path=\"../data/interim/y_test.pkl\")\n",
    "\n",
    "serialize_data(X_valid, path=\"../data/interim/X_valid.pkl\")\n",
    "serialize_data(y_valid, path=\"../data/interim/y_valid.pkl\")"
   ],
   "id": "f032c49bd4098a04",
   "outputs": [],
   "execution_count": 37
  },
  {
   "metadata": {
    "ExecuteTime": {
     "end_time": "2025-01-15T16:04:43.874032Z",
     "start_time": "2025-01-15T16:04:43.862096Z"
    }
   },
   "cell_type": "code",
   "source": [
    "X_train = deserialize_data(\"../data/interim/X_train.pkl\")\n",
    "y_train = deserialize_data(\"../data/interim/y_train.pkl\")"
   ],
   "id": "5949e9b8ec57904a",
   "outputs": [],
   "execution_count": 38
  },
  {
   "metadata": {
    "ExecuteTime": {
     "end_time": "2025-01-15T16:04:44.783234Z",
     "start_time": "2025-01-15T16:04:44.771688Z"
    }
   },
   "cell_type": "code",
   "source": "X_train.head()",
   "id": "9c9fe666798865e0",
   "outputs": [
    {
     "data": {
      "text/plain": [
       "       age  income home_ownership  employment_length        loan_intent  \\\n",
       "32377   64   46000           RENT                2.0           PERSONAL   \n",
       "1338    26   26000            OWN                0.0  DEBTCONSOLIDATION   \n",
       "7047    23   51000       MORTGAGE                3.0           PERSONAL   \n",
       "8225    22   56004       MORTGAGE                6.0            MEDICAL   \n",
       "7178    24   79000           RENT                3.0           PERSONAL   \n",
       "\n",
       "      loan_grade  loan_amount  loan_interest_rate  loan_percent_income  \\\n",
       "32377          C         4800               11.09                 0.10   \n",
       "1338           E         8500               16.45                 0.33   \n",
       "7047           C        16000               13.11                 0.31   \n",
       "8225           A         6000                7.88                 0.11   \n",
       "7178           C         7000               12.54                 0.09   \n",
       "\n",
       "      cb_person_default_on_file  credit_history_length  \n",
       "32377                         Y                     24  \n",
       "1338                          N                      3  \n",
       "7047                          Y                      3  \n",
       "8225                          N                      4  \n",
       "7178                          N                      3  "
      ],
      "text/html": [
       "<div>\n",
       "<style scoped>\n",
       "    .dataframe tbody tr th:only-of-type {\n",
       "        vertical-align: middle;\n",
       "    }\n",
       "\n",
       "    .dataframe tbody tr th {\n",
       "        vertical-align: top;\n",
       "    }\n",
       "\n",
       "    .dataframe thead th {\n",
       "        text-align: right;\n",
       "    }\n",
       "</style>\n",
       "<table border=\"1\" class=\"dataframe\">\n",
       "  <thead>\n",
       "    <tr style=\"text-align: right;\">\n",
       "      <th></th>\n",
       "      <th>age</th>\n",
       "      <th>income</th>\n",
       "      <th>home_ownership</th>\n",
       "      <th>employment_length</th>\n",
       "      <th>loan_intent</th>\n",
       "      <th>loan_grade</th>\n",
       "      <th>loan_amount</th>\n",
       "      <th>loan_interest_rate</th>\n",
       "      <th>loan_percent_income</th>\n",
       "      <th>cb_person_default_on_file</th>\n",
       "      <th>credit_history_length</th>\n",
       "    </tr>\n",
       "  </thead>\n",
       "  <tbody>\n",
       "    <tr>\n",
       "      <th>32377</th>\n",
       "      <td>64</td>\n",
       "      <td>46000</td>\n",
       "      <td>RENT</td>\n",
       "      <td>2.0</td>\n",
       "      <td>PERSONAL</td>\n",
       "      <td>C</td>\n",
       "      <td>4800</td>\n",
       "      <td>11.09</td>\n",
       "      <td>0.10</td>\n",
       "      <td>Y</td>\n",
       "      <td>24</td>\n",
       "    </tr>\n",
       "    <tr>\n",
       "      <th>1338</th>\n",
       "      <td>26</td>\n",
       "      <td>26000</td>\n",
       "      <td>OWN</td>\n",
       "      <td>0.0</td>\n",
       "      <td>DEBTCONSOLIDATION</td>\n",
       "      <td>E</td>\n",
       "      <td>8500</td>\n",
       "      <td>16.45</td>\n",
       "      <td>0.33</td>\n",
       "      <td>N</td>\n",
       "      <td>3</td>\n",
       "    </tr>\n",
       "    <tr>\n",
       "      <th>7047</th>\n",
       "      <td>23</td>\n",
       "      <td>51000</td>\n",
       "      <td>MORTGAGE</td>\n",
       "      <td>3.0</td>\n",
       "      <td>PERSONAL</td>\n",
       "      <td>C</td>\n",
       "      <td>16000</td>\n",
       "      <td>13.11</td>\n",
       "      <td>0.31</td>\n",
       "      <td>Y</td>\n",
       "      <td>3</td>\n",
       "    </tr>\n",
       "    <tr>\n",
       "      <th>8225</th>\n",
       "      <td>22</td>\n",
       "      <td>56004</td>\n",
       "      <td>MORTGAGE</td>\n",
       "      <td>6.0</td>\n",
       "      <td>MEDICAL</td>\n",
       "      <td>A</td>\n",
       "      <td>6000</td>\n",
       "      <td>7.88</td>\n",
       "      <td>0.11</td>\n",
       "      <td>N</td>\n",
       "      <td>4</td>\n",
       "    </tr>\n",
       "    <tr>\n",
       "      <th>7178</th>\n",
       "      <td>24</td>\n",
       "      <td>79000</td>\n",
       "      <td>RENT</td>\n",
       "      <td>3.0</td>\n",
       "      <td>PERSONAL</td>\n",
       "      <td>C</td>\n",
       "      <td>7000</td>\n",
       "      <td>12.54</td>\n",
       "      <td>0.09</td>\n",
       "      <td>N</td>\n",
       "      <td>3</td>\n",
       "    </tr>\n",
       "  </tbody>\n",
       "</table>\n",
       "</div>"
      ]
     },
     "execution_count": 39,
     "metadata": {},
     "output_type": "execute_result"
    }
   ],
   "execution_count": 39
  },
  {
   "metadata": {
    "ExecuteTime": {
     "end_time": "2025-01-15T16:04:48.979533Z",
     "start_time": "2025-01-15T16:04:48.973653Z"
    }
   },
   "cell_type": "code",
   "source": "y_train.head()",
   "id": "438d9616af3c7dcc",
   "outputs": [
    {
     "data": {
      "text/plain": [
       "32377    0\n",
       "1338     1\n",
       "7047     0\n",
       "8225     0\n",
       "7178     0\n",
       "Name: loan_status, dtype: int64"
      ]
     },
     "execution_count": 40,
     "metadata": {},
     "output_type": "execute_result"
    }
   ],
   "execution_count": 40
  },
  {
   "metadata": {},
   "cell_type": "code",
   "outputs": [],
   "execution_count": null,
   "source": "",
   "id": "534c5d9c84e726a9"
  }
 ],
 "metadata": {
  "kernelspec": {
   "display_name": "Python 3",
   "language": "python",
   "name": "python3"
  },
  "language_info": {
   "codemirror_mode": {
    "name": "ipython",
    "version": 2
   },
   "file_extension": ".py",
   "mimetype": "text/x-python",
   "name": "python",
   "nbconvert_exporter": "python",
   "pygments_lexer": "ipython2",
   "version": "2.7.6"
  }
 },
 "nbformat": 4,
 "nbformat_minor": 5
}
